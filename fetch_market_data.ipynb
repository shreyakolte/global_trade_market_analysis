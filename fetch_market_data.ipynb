{
 "cells": [
  {
   "cell_type": "code",
   "execution_count": 1,
   "id": "3a65cf68-ca79-4a4b-aa0b-f5daf3bdea80",
   "metadata": {},
   "outputs": [
    {
     "name": "stdout",
     "output_type": "stream",
     "text": [
      " Saved: s&p_500\n",
      " Saved: nasdaq\n",
      " Saved: nifty_50\n",
      " Saved: hang_seng\n",
      " Saved: euro_stoxx_50\n",
      " Saved: energy_etf\n",
      " Saved: healthcare_etf\n",
      " Saved: industrial_etf\n",
      " Saved: finance_etf\n",
      " Saved: tech_etf\n"
     ]
    }
   ],
   "source": [
    "import yfinance as yf\n",
    "import pandas as pd\n",
    "import os\n",
    "\n",
    "# Save path\n",
    "save_path = \"C:/Users/Shreya Kolte/OneDrive/Desktop/global_econ_intelligence_project/Data/raw\"\n",
    "os.makedirs(save_path, exist_ok=True)\n",
    "\n",
    "# Tickers representing global indices and sectors\n",
    "tickers = {\n",
    "    \"^GSPC\": \"s&p_500\",\n",
    "    \"^IXIC\": \"nasdaq\",\n",
    "    \"^NSEI\": \"nifty_50\",\n",
    "    \"^HSI\": \"hang_seng\",\n",
    "    \"^STOXX50E\": \"euro_stoxx_50\",\n",
    "    \"XLE\": \"energy_etf\",\n",
    "    \"XLV\": \"healthcare_etf\",\n",
    "    \"XLI\": \"industrial_etf\",\n",
    "    \"XLF\": \"finance_etf\",\n",
    "    \"XLK\": \"tech_etf\"\n",
    "}\n",
    "\n",
    "# Loop and fetch data\n",
    "for symbol, name in tickers.items():\n",
    "    try:\n",
    "        ticker = yf.Ticker(symbol)\n",
    "        df = ticker.history(period=\"1y\")\n",
    "        df.reset_index(inplace=True)\n",
    "\n",
    "        # Save each dataset \n",
    "        filepath = f\"{save_path}/{name}.csv\"\n",
    "        df.to_csv(filepath, index=False)\n",
    "        print(f\" Saved: {name}\")\n",
    "    except Exception as e:\n",
    "        print(f\" Failed to fetch {symbol}: {e}\")\n"
   ]
  },
  {
   "cell_type": "code",
   "execution_count": null,
   "id": "2e0cc7ed-2a9f-41a7-8256-3a685c38ba93",
   "metadata": {},
   "outputs": [],
   "source": []
  },
  {
   "cell_type": "code",
   "execution_count": null,
   "id": "de084fdc-50dc-45cd-8b56-82bb7d2c598d",
   "metadata": {},
   "outputs": [],
   "source": []
  }
 ],
 "metadata": {
  "kernelspec": {
   "display_name": "Python 3 (ipykernel)",
   "language": "python",
   "name": "python3"
  },
  "language_info": {
   "codemirror_mode": {
    "name": "ipython",
    "version": 3
   },
   "file_extension": ".py",
   "mimetype": "text/x-python",
   "name": "python",
   "nbconvert_exporter": "python",
   "pygments_lexer": "ipython3",
   "version": "3.12.6"
  }
 },
 "nbformat": 4,
 "nbformat_minor": 5
}
