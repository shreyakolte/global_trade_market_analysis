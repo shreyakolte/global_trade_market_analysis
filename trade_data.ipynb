{
 "cells": [
  {
   "cell_type": "code",
   "execution_count": 2,
   "id": "f4f03e62-ba72-4745-bcc7-931c707754b6",
   "metadata": {},
   "outputs": [
    {
     "name": "stdout",
     "output_type": "stream",
     "text": [
      "Requirement already satisfied: openpyxl in c:\\users\\shreya kolte\\appdata\\local\\programs\\python\\python312\\lib\\site-packages (3.1.5)Note: you may need to restart the kernel to use updated packages.\n"
     ]
    },
    {
     "name": "stderr",
     "output_type": "stream",
     "text": [
      "\n",
      "[notice] A new release of pip is available: 24.2 -> 25.0.1\n",
      "[notice] To update, run: C:\\Users\\Shreya Kolte\\AppData\\Local\\Programs\\Python\\Python312\\python.exe -m pip install --upgrade pip\n"
     ]
    },
    {
     "name": "stdout",
     "output_type": "stream",
     "text": [
      "\n",
      "Requirement already satisfied: et-xmlfile in c:\\users\\shreya kolte\\appdata\\local\\programs\\python\\python312\\lib\\site-packages (from openpyxl) (2.0.0)\n"
     ]
    }
   ],
   "source": [
    "pip install openpyxl"
   ]
  },
  {
   "cell_type": "code",
   "execution_count": 3,
   "id": "1292c176-0fde-45b0-9db4-c43158e1d146",
   "metadata": {},
   "outputs": [
    {
     "name": "stdout",
     "output_type": "stream",
     "text": [
      "🔍 Raw shape: (8972, 29)\n",
      "   year  CTY_CODE         CTYNAME     IJAN     IFEB     IMAR     IAPR  \\\n",
      "0  1997         3  European Union  11644.9  11764.7  13616.9  13577.4   \n",
      "1  1998         3  European Union  12883.4  12954.5  15970.6  15144.0   \n",
      "2  1999         3  European Union  13700.7  14788.6  17131.3  16129.8   \n",
      "3  2000         3  European Union  15771.3  17227.4  20757.7  18285.4   \n",
      "4  2001         3  European Union  19413.6  18491.1  20720.2  19677.4   \n",
      "\n",
      "      IMAY     IJUN     IJUL  ...     EAPR     EMAY     EJUN     EJUL  \\\n",
      "0  13528.9  13183.1  14865.8  ...  12450.5  12270.2  11868.4  10657.2   \n",
      "1  14374.4  15502.9  16224.6  ...  12271.3  12951.0  12666.8  11275.9   \n",
      "2  16035.2  17217.8  17873.4  ...  13091.2  12931.7  12393.7  11484.5   \n",
      "3  19341.8  18583.1  18982.7  ...  13860.9  14224.1  14220.4  12235.6   \n",
      "4  19596.3  18334.9  20129.0  ...  13949.0  14427.2  13996.9  11531.9   \n",
      "\n",
      "      EAUG     ESEP     EOCT     ENOV     EDEC       EYR  \n",
      "0  11042.0  11833.8  12773.9  11994.2  12816.9  143931.4  \n",
      "1  12022.3  12656.2  13194.3  12476.9  12862.9  151967.0  \n",
      "2  12219.1  12426.3  13680.9  13081.9  13642.6  154824.8  \n",
      "3  13858.3  14482.0  14559.1  14604.6  15584.5  168181.1  \n",
      "4  12844.9  12250.4  13317.2  12399.8  12821.0  161931.0  \n",
      "\n",
      "[5 rows x 29 columns]\n"
     ]
    }
   ],
   "source": [
    "import warnings\n",
    "warnings.filterwarnings('ignore')\n",
    "import pandas as pd\n",
    "\n",
    "# Load the Excel file\n",
    "file_path = \"C:/Users/Shreya Kolte/OneDrive/Desktop/global_econ_intelligence_project/Data/Raw/country.xlsx\"\n",
    "\n",
    "df_raw = pd.read_excel(file_path)\n",
    "\n",
    "# Preview the raw data\n",
    "print(\"🔍 Raw shape:\", df_raw.shape)\n",
    "print(df_raw.head())\n"
   ]
  },
  {
   "cell_type": "code",
   "execution_count": 4,
   "id": "e71a1d8e-866d-4022-be46-680aa20ea16e",
   "metadata": {},
   "outputs": [
    {
     "data": {
      "text/html": [
       "<div>\n",
       "<style scoped>\n",
       "    .dataframe tbody tr th:only-of-type {\n",
       "        vertical-align: middle;\n",
       "    }\n",
       "\n",
       "    .dataframe tbody tr th {\n",
       "        vertical-align: top;\n",
       "    }\n",
       "\n",
       "    .dataframe thead th {\n",
       "        text-align: right;\n",
       "    }\n",
       "</style>\n",
       "<table border=\"1\" class=\"dataframe\">\n",
       "  <thead>\n",
       "    <tr style=\"text-align: right;\">\n",
       "      <th></th>\n",
       "      <th>Country</th>\n",
       "      <th>Month</th>\n",
       "      <th>Import_Value</th>\n",
       "    </tr>\n",
       "  </thead>\n",
       "  <tbody>\n",
       "    <tr>\n",
       "      <th>0</th>\n",
       "      <td>European Union</td>\n",
       "      <td>2024-01-01</td>\n",
       "      <td>46556.315322</td>\n",
       "    </tr>\n",
       "    <tr>\n",
       "      <th>1</th>\n",
       "      <td>World, Seasonally Adjusted</td>\n",
       "      <td>2024-01-01</td>\n",
       "      <td>259364.777642</td>\n",
       "    </tr>\n",
       "    <tr>\n",
       "      <th>2</th>\n",
       "      <td>Advanced Technology Products</td>\n",
       "      <td>2024-01-01</td>\n",
       "      <td>53188.254647</td>\n",
       "    </tr>\n",
       "    <tr>\n",
       "      <th>3</th>\n",
       "      <td>South and Central America</td>\n",
       "      <td>2024-01-01</td>\n",
       "      <td>13064.909264</td>\n",
       "    </tr>\n",
       "    <tr>\n",
       "      <th>4</th>\n",
       "      <td>North America</td>\n",
       "      <td>2024-01-01</td>\n",
       "      <td>71351.448154</td>\n",
       "    </tr>\n",
       "  </tbody>\n",
       "</table>\n",
       "</div>"
      ],
      "text/plain": [
       "                        Country      Month   Import_Value\n",
       "0                European Union 2024-01-01   46556.315322\n",
       "1    World, Seasonally Adjusted 2024-01-01  259364.777642\n",
       "2  Advanced Technology Products 2024-01-01   53188.254647\n",
       "3     South and Central America 2024-01-01   13064.909264\n",
       "4                 North America 2024-01-01   71351.448154"
      ]
     },
     "execution_count": 4,
     "metadata": {},
     "output_type": "execute_result"
    }
   ],
   "source": [
    "# Filter only 2024 data\n",
    "df_2024 = df_raw[df_raw[\"year\"] == 2024].copy()\n",
    "\n",
    "# Keep only import columns\n",
    "import_cols = ['CTYNAME', 'IJAN', 'IFEB', 'IMAR', 'IAPR', 'IMAY', 'IJUN',\n",
    "               'IJUL', 'IAUG', 'ISEP', 'IOCT', 'INOV', 'IDEC']\n",
    "df_imports = df_2024[import_cols]\n",
    "\n",
    "# Rename months\n",
    "month_map = {\n",
    "    'IJAN': '2024-01', 'IFEB': '2024-02', 'IMAR': '2024-03', 'IAPR': '2024-04',\n",
    "    'IMAY': '2024-05', 'IJUN': '2024-06', 'IJUL': '2024-07', 'IAUG': '2024-08',\n",
    "    'ISEP': '2024-09', 'IOCT': '2024-10', 'INOV': '2024-11', 'IDEC': '2024-12'\n",
    "}\n",
    "df_imports.rename(columns=month_map, inplace=True)\n",
    "\n",
    "# Reshape to long format\n",
    "df_long = df_imports.melt(id_vars='CTYNAME', var_name='Month', value_name='Import_Value')\n",
    "df_long['Month'] = pd.to_datetime(df_long['Month'])\n",
    "df_long.rename(columns={'CTYNAME': 'Country'}, inplace=True)\n",
    "\n",
    "# View tidy version\n",
    "df_long.head()"
   ]
  },
  {
   "cell_type": "code",
   "execution_count": 5,
   "id": "39407a86-b638-42e3-846b-5ad409703949",
   "metadata": {},
   "outputs": [
    {
     "data": {
      "text/html": [
       "<div>\n",
       "<style scoped>\n",
       "    .dataframe tbody tr th:only-of-type {\n",
       "        vertical-align: middle;\n",
       "    }\n",
       "\n",
       "    .dataframe tbody tr th {\n",
       "        vertical-align: top;\n",
       "    }\n",
       "\n",
       "    .dataframe thead th {\n",
       "        text-align: right;\n",
       "    }\n",
       "</style>\n",
       "<table border=\"1\" class=\"dataframe\">\n",
       "  <thead>\n",
       "    <tr style=\"text-align: right;\">\n",
       "      <th></th>\n",
       "      <th>Country</th>\n",
       "      <th>Month</th>\n",
       "      <th>Export_Value</th>\n",
       "    </tr>\n",
       "  </thead>\n",
       "  <tbody>\n",
       "    <tr>\n",
       "      <th>0</th>\n",
       "      <td>European Union</td>\n",
       "      <td>2024-01-01</td>\n",
       "      <td>29808.028390</td>\n",
       "    </tr>\n",
       "    <tr>\n",
       "      <th>1</th>\n",
       "      <td>World, Seasonally Adjusted</td>\n",
       "      <td>2024-01-01</td>\n",
       "      <td>169081.115983</td>\n",
       "    </tr>\n",
       "    <tr>\n",
       "      <th>2</th>\n",
       "      <td>Advanced Technology Products</td>\n",
       "      <td>2024-01-01</td>\n",
       "      <td>33839.003791</td>\n",
       "    </tr>\n",
       "    <tr>\n",
       "      <th>3</th>\n",
       "      <td>South and Central America</td>\n",
       "      <td>2024-01-01</td>\n",
       "      <td>15816.868643</td>\n",
       "    </tr>\n",
       "    <tr>\n",
       "      <th>4</th>\n",
       "      <td>North America</td>\n",
       "      <td>2024-01-01</td>\n",
       "      <td>52784.854643</td>\n",
       "    </tr>\n",
       "  </tbody>\n",
       "</table>\n",
       "</div>"
      ],
      "text/plain": [
       "                        Country      Month   Export_Value\n",
       "0                European Union 2024-01-01   29808.028390\n",
       "1    World, Seasonally Adjusted 2024-01-01  169081.115983\n",
       "2  Advanced Technology Products 2024-01-01   33839.003791\n",
       "3     South and Central America 2024-01-01   15816.868643\n",
       "4                 North America 2024-01-01   52784.854643"
      ]
     },
     "execution_count": 5,
     "metadata": {},
     "output_type": "execute_result"
    }
   ],
   "source": [
    "# Step 1: Filter only 2024 data\n",
    "df_2024 = df_raw[df_raw[\"year\"] == 2024].copy()\n",
    "\n",
    "# Step 2: Select export columns\n",
    "export_cols = ['CTYNAME', 'EJAN', 'EFEB', 'EMAR', 'EAPR', 'EMAY', 'EJUN',\n",
    "               'EJUL', 'EAUG', 'ESEP', 'EOCT', 'ENOV', 'EDEC']\n",
    "df_exports = df_2024[export_cols]\n",
    "\n",
    "# Step 3: Rename month columns\n",
    "month_map_exports = {\n",
    "    'EJAN': '2024-01', 'EFEB': '2024-02', 'EMAR': '2024-03', 'EAPR': '2024-04',\n",
    "    'EMAY': '2024-05', 'EJUN': '2024-06', 'EJUL': '2024-07', 'EAUG': '2024-08',\n",
    "    'ESEP': '2024-09', 'EOCT': '2024-10', 'ENOV': '2024-11', 'EDEC': '2024-12'\n",
    "}\n",
    "df_exports.rename(columns=month_map_exports, inplace=True)\n",
    "\n",
    "# Step 4: Reshape to long format\n",
    "df_exports_long = df_exports.melt(id_vars='CTYNAME', var_name='Month', value_name='Export_Value')\n",
    "df_exports_long['Month'] = pd.to_datetime(df_exports_long['Month'])\n",
    "df_exports_long.rename(columns={'CTYNAME': 'Country'}, inplace=True)\n",
    "\n",
    "# Final export tidy data\n",
    "df_exports_long.head()\n"
   ]
  },
  {
   "cell_type": "code",
   "execution_count": 6,
   "id": "807356fb-3b6c-46ba-a395-96b2cf486fc4",
   "metadata": {},
   "outputs": [
    {
     "data": {
      "text/html": [
       "<div>\n",
       "<style scoped>\n",
       "    .dataframe tbody tr th:only-of-type {\n",
       "        vertical-align: middle;\n",
       "    }\n",
       "\n",
       "    .dataframe tbody tr th {\n",
       "        vertical-align: top;\n",
       "    }\n",
       "\n",
       "    .dataframe thead th {\n",
       "        text-align: right;\n",
       "    }\n",
       "</style>\n",
       "<table border=\"1\" class=\"dataframe\">\n",
       "  <thead>\n",
       "    <tr style=\"text-align: right;\">\n",
       "      <th></th>\n",
       "      <th>Country</th>\n",
       "      <th>Month</th>\n",
       "      <th>Import_Value</th>\n",
       "      <th>Export_Value</th>\n",
       "      <th>Trade_Balance</th>\n",
       "    </tr>\n",
       "  </thead>\n",
       "  <tbody>\n",
       "    <tr>\n",
       "      <th>0</th>\n",
       "      <td>Advanced Technology Products</td>\n",
       "      <td>2024-01-01</td>\n",
       "      <td>53188.254647</td>\n",
       "      <td>33839.003791</td>\n",
       "      <td>-19349.250856</td>\n",
       "    </tr>\n",
       "    <tr>\n",
       "      <th>1</th>\n",
       "      <td>Advanced Technology Products</td>\n",
       "      <td>2024-02-01</td>\n",
       "      <td>50239.529505</td>\n",
       "      <td>33269.672344</td>\n",
       "      <td>-16969.857161</td>\n",
       "    </tr>\n",
       "    <tr>\n",
       "      <th>2</th>\n",
       "      <td>Advanced Technology Products</td>\n",
       "      <td>2024-03-01</td>\n",
       "      <td>57260.563237</td>\n",
       "      <td>39024.418635</td>\n",
       "      <td>-18236.144602</td>\n",
       "    </tr>\n",
       "    <tr>\n",
       "      <th>3</th>\n",
       "      <td>Advanced Technology Products</td>\n",
       "      <td>2024-04-01</td>\n",
       "      <td>61381.770734</td>\n",
       "      <td>36165.674552</td>\n",
       "      <td>-25216.096182</td>\n",
       "    </tr>\n",
       "    <tr>\n",
       "      <th>4</th>\n",
       "      <td>Advanced Technology Products</td>\n",
       "      <td>2024-05-01</td>\n",
       "      <td>61900.930853</td>\n",
       "      <td>37337.173882</td>\n",
       "      <td>-24563.756971</td>\n",
       "    </tr>\n",
       "  </tbody>\n",
       "</table>\n",
       "</div>"
      ],
      "text/plain": [
       "                        Country      Month  Import_Value  Export_Value  \\\n",
       "0  Advanced Technology Products 2024-01-01  53188.254647  33839.003791   \n",
       "1  Advanced Technology Products 2024-02-01  50239.529505  33269.672344   \n",
       "2  Advanced Technology Products 2024-03-01  57260.563237  39024.418635   \n",
       "3  Advanced Technology Products 2024-04-01  61381.770734  36165.674552   \n",
       "4  Advanced Technology Products 2024-05-01  61900.930853  37337.173882   \n",
       "\n",
       "   Trade_Balance  \n",
       "0  -19349.250856  \n",
       "1  -16969.857161  \n",
       "2  -18236.144602  \n",
       "3  -25216.096182  \n",
       "4  -24563.756971  "
      ]
     },
     "execution_count": 6,
     "metadata": {},
     "output_type": "execute_result"
    }
   ],
   "source": [
    "# Merge imports and exports on Country + Month\n",
    "df_merged = pd.merge(\n",
    "    df_long,                 # Imports\n",
    "    df_exports_long,         # Exports\n",
    "    on=['Country', 'Month'],\n",
    "    how='outer'              # In case some values are missing\n",
    ")\n",
    "\n",
    "# Calculate Trade Balance\n",
    "df_merged['Trade_Balance'] = df_merged['Export_Value'] - df_merged['Import_Value']\n",
    "\n",
    "# Preview\n",
    "df_merged.sort_values(by=['Country', 'Month'], inplace=True)\n",
    "df_merged.head()\n"
   ]
  },
  {
   "cell_type": "code",
   "execution_count": 7,
   "id": "c484af08-09a2-420e-96fd-43305d61a08a",
   "metadata": {},
   "outputs": [
    {
     "name": "stdout",
     "output_type": "stream",
     "text": [
      "Clean trade data exported to Data/Clean/\n"
     ]
    }
   ],
   "source": [
    "# Export the merged & cleaned trade data to CSV\n",
    "df_merged.to_csv(\"C:/Users/Shreya Kolte/OneDrive/Desktop/global_econ_intelligence_project/Data/Clean/us_trade_balance_2024.csv\", index=False)\n",
    "print(\"Clean trade data exported to Data/Clean/\")"
   ]
  },
  {
   "cell_type": "code",
   "execution_count": null,
   "id": "42d33ee1-5975-467a-91eb-bdd24756cf8f",
   "metadata": {},
   "outputs": [],
   "source": []
  }
 ],
 "metadata": {
  "kernelspec": {
   "display_name": "Python 3 (ipykernel)",
   "language": "python",
   "name": "python3"
  },
  "language_info": {
   "codemirror_mode": {
    "name": "ipython",
    "version": 3
   },
   "file_extension": ".py",
   "mimetype": "text/x-python",
   "name": "python",
   "nbconvert_exporter": "python",
   "pygments_lexer": "ipython3",
   "version": "3.12.6"
  }
 },
 "nbformat": 4,
 "nbformat_minor": 5
}
