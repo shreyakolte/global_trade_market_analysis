{
 "cells": [
  {
   "cell_type": "code",
   "execution_count": 1,
   "id": "674c1da3-81b8-487f-8ed0-465a1723a7f0",
   "metadata": {},
   "outputs": [],
   "source": [
    "import pandas as pd\n",
    "import sqlite3\n"
   ]
  },
  {
   "cell_type": "markdown",
   "id": "61e7f386-7826-4617-b081-e1338d795e42",
   "metadata": {},
   "source": [
    "## Load Final Dataset into SQLite (ETL Step)"
   ]
  },
  {
   "cell_type": "code",
   "execution_count": 3,
   "id": "5e5a89ad-a3ac-4bc0-a82a-8195e81dced5",
   "metadata": {},
   "outputs": [
    {
     "name": "stdout",
     "output_type": "stream",
     "text": [
      " Table 'trade_etf_data' created in global_econ_data.db\n",
      "                        Country       Month  Import_Value  Export_Value  \\\n",
      "0  Advanced Technology Products  2024-04-01  61381.770734  36165.674552   \n",
      "1  Advanced Technology Products  2024-05-01  61900.930853  37337.173882   \n",
      "2  Advanced Technology Products  2024-06-01  62033.696162  41411.731715   \n",
      "3  Advanced Technology Products  2024-07-01  67007.378870  40187.979033   \n",
      "4  Advanced Technology Products  2024-08-01  66409.283057  44710.418966   \n",
      "\n",
      "   Trade_Balance  XLK_Avg_Close  Trade_Balance_%_Change  XLK_Change_%  \n",
      "0  -25216.096182     198.692767                     NaN           NaN  \n",
      "1  -24563.756971     207.361606               -2.586995      4.362936  \n",
      "2  -20621.964447     221.283344              -16.047189      6.713749  \n",
      "3  -26819.399837     224.847267               30.052595      1.610570  \n",
      "4  -21698.864091     213.429815              -19.092656     -5.077870  \n"
     ]
    }
   ],
   "source": [
    "# 1. Load the cleaned CSV\n",
    "csv_path = \"C:/Users/Shreya Kolte/OneDrive/Desktop/global_econ_intelligence_project/Data/Clean/final_trade_etf_data.csv\"\n",
    "df = pd.read_csv(csv_path)\n",
    "\n",
    "# 2. Connect to SQLite \n",
    "conn = sqlite3.connect(\"global_econ_data.db\")\n",
    "\n",
    "# 3. Write to a new table\n",
    "df.to_sql(\"trade_etf_data\", conn, if_exists=\"replace\", index=False)\n",
    "\n",
    "# 4. Verify\n",
    "print(\" Table 'trade_etf_data' created in global_econ_data.db\")\n",
    "\n",
    "# 5. Preview some rows\n",
    "print(df.head())\n",
    "\n",
    "# Close connection\n",
    "conn.close()\n"
   ]
  },
  {
   "cell_type": "code",
   "execution_count": 4,
   "id": "2af16a2d-9f36-42c2-a849-c938db3f190e",
   "metadata": {},
   "outputs": [],
   "source": [
    "conn = sqlite3.connect(\"global_econ_data.db\")\n",
    "cursor = conn.cursor()\n"
   ]
  },
  {
   "cell_type": "markdown",
   "id": "1d4dd472-ada4-4823-ba99-ba75e950300d",
   "metadata": {},
   "source": [
    "##  1. Average Trade Balance"
   ]
  },
  {
   "cell_type": "code",
   "execution_count": 5,
   "id": "39f57ad1-da90-40ce-be10-bdea8f86b752",
   "metadata": {},
   "outputs": [
    {
     "name": "stdout",
     "output_type": "stream",
     "text": [
      "Average Trade Balance: -27154.77375011111\n"
     ]
    }
   ],
   "source": [
    "cursor.execute(\"SELECT AVG(Trade_Balance) FROM trade_etf_data\")\n",
    "print(\"Average Trade Balance:\", cursor.fetchone()[0])"
   ]
  },
  {
   "cell_type": "markdown",
   "id": "9616b99d-1a86-46ff-ac1a-9bbfd936f9ee",
   "metadata": {},
   "source": [
    "## 2. Best ETF Month (highest XLK Avg Close)"
   ]
  },
  {
   "cell_type": "code",
   "execution_count": 9,
   "id": "bf7aaa17-9f77-481c-8aa0-1c1c3906d776",
   "metadata": {},
   "outputs": [
    {
     "name": "stdout",
     "output_type": "stream",
     "text": [
      "Best ETF Month: ('2024-12-01', 237.02872430710565)\n"
     ]
    }
   ],
   "source": [
    "cursor.execute(\"\"\"\n",
    "    SELECT Month, XLK_Avg_Close \n",
    "    FROM trade_etf_data \n",
    "    ORDER BY XLK_Avg_Close DESC \n",
    "    LIMIT 1\n",
    "\"\"\")\n",
    "print(\"Best ETF Month:\", cursor.fetchone())\n"
   ]
  },
  {
   "cell_type": "markdown",
   "id": "a4c09c77-2c37-4bec-8d95-f0b78f41cd26",
   "metadata": {},
   "source": [
    "## 3. Worst Trade Balance Month"
   ]
  },
  {
   "cell_type": "code",
   "execution_count": 10,
   "id": "da388e7f-519e-4a25-94ad-f50c259f13c2",
   "metadata": {},
   "outputs": [
    {
     "name": "stdout",
     "output_type": "stream",
     "text": [
      "Worst Trade Balance Month: ('2024-09-01', -34443.787673000006)\n"
     ]
    }
   ],
   "source": [
    "cursor.execute(\"\"\"\n",
    "    SELECT Month, Trade_Balance \n",
    "    FROM trade_etf_data \n",
    "    ORDER BY Trade_Balance ASC \n",
    "    LIMIT 1\n",
    "\"\"\")\n",
    "print(\"Worst Trade Balance Month:\", cursor.fetchone())\n"
   ]
  },
  {
   "cell_type": "markdown",
   "id": "b468c8b2-6b09-4912-8e95-0f23dd344f80",
   "metadata": {},
   "source": [
    "## 4. Count of Deficit Months (negative trade balance)"
   ]
  },
  {
   "cell_type": "code",
   "execution_count": 11,
   "id": "f6237dbe-b279-44bd-b39f-b7ed9e8df9f1",
   "metadata": {},
   "outputs": [
    {
     "name": "stdout",
     "output_type": "stream",
     "text": [
      "Deficit Months: 9\n"
     ]
    }
   ],
   "source": [
    "cursor.execute(\"\"\"\n",
    "    SELECT COUNT(*) \n",
    "    FROM trade_etf_data \n",
    "    WHERE Trade_Balance < 0\n",
    "\"\"\")\n",
    "print(\"Deficit Months:\", cursor.fetchone()[0])\n"
   ]
  },
  {
   "cell_type": "markdown",
   "id": "11e9ac78-b896-4cff-82e3-9cf050f7aec0",
   "metadata": {},
   "source": [
    "## 5. ETF Growth Percent > 5%"
   ]
  },
  {
   "cell_type": "code",
   "execution_count": 15,
   "id": "469be69f-4a8c-4386-8fac-a5fa5b7278e4",
   "metadata": {},
   "outputs": [
    {
     "name": "stdout",
     "output_type": "stream",
     "text": [
      "High Growth ETF Months:\n",
      "('2024-06-01', 6.713749187810714)\n"
     ]
    }
   ],
   "source": [
    "cursor.execute(\"\"\"\n",
    "    SELECT Month, [XLK_Change_%]\n",
    "    FROM trade_etf_data\n",
    "    WHERE [XLK_Change_%] > 5\n",
    "\"\"\")\n",
    "print(\"High Growth ETF Months:\")\n",
    "for row in cursor.fetchall():\n",
    "    print(row)\n",
    "\n"
   ]
  },
  {
   "cell_type": "code",
   "execution_count": 16,
   "id": "97807c29-363e-4357-a06d-088f8c21df4c",
   "metadata": {},
   "outputs": [],
   "source": [
    "conn.close()"
   ]
  },
  {
   "cell_type": "code",
   "execution_count": null,
   "id": "4735654f-92cf-484a-8212-9e53b53f07d5",
   "metadata": {},
   "outputs": [],
   "source": []
  }
 ],
 "metadata": {
  "kernelspec": {
   "display_name": "Python 3 (ipykernel)",
   "language": "python",
   "name": "python3"
  },
  "language_info": {
   "codemirror_mode": {
    "name": "ipython",
    "version": 3
   },
   "file_extension": ".py",
   "mimetype": "text/x-python",
   "name": "python",
   "nbconvert_exporter": "python",
   "pygments_lexer": "ipython3",
   "version": "3.12.6"
  }
 },
 "nbformat": 4,
 "nbformat_minor": 5
}
